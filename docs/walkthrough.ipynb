{
 "cells": [
  {
   "cell_type": "markdown",
   "id": "45d64bcb-5ebc-4853-af13-b00b45b2c2e3",
   "metadata": {},
   "source": [
    "# Using poppy-raspi-thymio"
   ]
  },
  {
   "cell_type": "code",
   "execution_count": null,
   "id": "4f2e0e57-c20c-4466-bf14-6066d6c96fff",
   "metadata": {},
   "outputs": [],
   "source": [
    "import poppy_raspi_thymio"
   ]
  },
  {
   "cell_type": "code",
   "execution_count": null,
   "id": "97db8034-76f1-4a3b-9b77-183224d513ce",
   "metadata": {},
   "outputs": [],
   "source": [
    "poppy_raspi_thymio.__version__"
   ]
  }
 ],
 "metadata": {
  "kernelspec": {
   "display_name": "poppy_raspi_thymio",
   "language": "python",
   "name": "poppy_raspi_thymio"
  },
  "language_info": {
   "codemirror_mode": {
    "name": "ipython",
    "version": 3
   },
   "file_extension": ".py",
   "mimetype": "text/x-python",
   "name": "python",
   "nbconvert_exporter": "python",
   "pygments_lexer": "ipython3",
   "version": "3.12.6"
  }
 },
 "nbformat": 4,
 "nbformat_minor": 5
}
